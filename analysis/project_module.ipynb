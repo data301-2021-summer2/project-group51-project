{
 "cells": [
  {
   "cell_type": "code",
   "execution_count": null,
   "id": "9b9782de-f71c-4a93-b521-b9154f2975b9",
   "metadata": {},
   "outputs": [],
   "source": [
    "from scripts import project_functions # This is called a relative import\n",
    "df = project_functions.load_and_process(path = \"/Users/a123/Desktop/School/UBC_2021Summer/Cosc301/Project/spare.csv\")\n",
    "df"
   ]
  },
  {
   "cell_type": "code",
   "execution_count": null,
   "id": "08747b8d-d639-47f8-ba77-c715dc54a775",
   "metadata": {},
   "outputs": [],
   "source": []
  }
 ],
 "metadata": {
  "kernelspec": {
   "display_name": "Python 3",
   "language": "python",
   "name": "python3"
  },
  "language_info": {
   "codemirror_mode": {
    "name": "ipython",
    "version": 3
   },
   "file_extension": ".py",
   "mimetype": "text/x-python",
   "name": "python",
   "nbconvert_exporter": "python",
   "pygments_lexer": "ipython3",
   "version": "3.8.5"
  }
 },
 "nbformat": 4,
 "nbformat_minor": 5
}
